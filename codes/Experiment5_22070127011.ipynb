{
  "nbformat": 4,
  "nbformat_minor": 0,
  "metadata": {
    "colab": {
      "provenance": []
    },
    "kernelspec": {
      "name": "python3",
      "display_name": "Python 3"
    },
    "language_info": {
      "name": "python"
    }
  },
  "cells": [
    {
      "cell_type": "markdown",
      "source": [
        "# Experiment-5:\n",
        "\n",
        "# Aim: A* path planning algorithm using grid based path planning Approach\n",
        "\n",
        "\n",
        "The A* search algorithm is a graph traversal and path search algorithm, which is often used in many fields of computer science due to its completeness, optimality, and optimal efficiency.  It's particularly well-suited for grid-based path planning, a common approach in robotics and game AI.\n",
        "\n",
        "**Core Concepts:**\n",
        "\n",
        "1. **Grid Representation:** The environment is represented as a grid, where each cell can be traversable (free space) or non-traversable (obstacle).  The start and goal positions are also defined as grid cells.\n",
        "\n",
        "2. **Heuristic Function:** A crucial component of A*.  The heuristic function (h(n)) estimates the cost to reach the goal from a given node (n).  A good heuristic is crucial for A*'s efficiency.  It must be *admissible* (never overestimates the actual cost) and *consistent* (for any node n and its successor n', h(n) ≤ cost(n to n') + h(n')).  Common heuristics include Manhattan distance and Euclidean distance.\n",
        "\n",
        "3. **Cost Function:**  The cost function (g(n)) represents the actual cost to reach node (n) from the starting node. This typically reflects the distance or effort required to traverse from one cell to another. In a simple grid, this might be just the number of steps.\n",
        "\n",
        "4. **f(n) = g(n) + h(n):** The A* algorithm prioritizes nodes based on their f(n) value. This combines the cost so far (g(n)) and the estimated cost to the goal (h(n)). Lower f(n) values indicate more promising paths.\n",
        "\n",
        "5. **Open and Closed Lists:**\n",
        "    * **Open List:**  A priority queue containing nodes to be evaluated. Nodes are ordered by their f(n) values.\n",
        "    * **Closed List:** A set containing nodes that have already been evaluated. This prevents cycles and revisiting nodes.\n",
        "\n",
        "**Algorithm Steps:**\n",
        "\n",
        "1. **Initialization:**\n",
        "   - Place the start node in the open list.\n",
        "   - Set its g(n) to 0 and calculate its f(n).\n",
        "\n",
        "2. **Iteration:**\n",
        "   - If the open list is empty, there's no path.\n",
        "   - Select the node with the lowest f(n) from the open list.  This is the current node.\n",
        "   - If the current node is the goal node, reconstruct and return the path.\n",
        "   - Move the current node from the open list to the closed list.\n",
        "   - For each valid neighbor of the current node (within grid boundaries and not an obstacle):\n",
        "     - Calculate tentative g(n) for the neighbor (g(current) + cost to move from current to neighbor).\n",
        "     - If the neighbor is in the closed list and the tentative g(n) is not better than its current g(n), skip it.\n",
        "     - If the neighbor is not in the open list or the tentative g(n) is better than its current g(n):\n",
        "       - Update the neighbor's g(n) with the tentative g(n).\n",
        "       - Calculate its f(n).\n",
        "       - Add or update the neighbor in the open list.\n",
        "       - Set the neighbor's parent to the current node (for path reconstruction).\n",
        "\n",
        "3. **Path Reconstruction:** Once the goal node is found, trace back from the goal node to the start node using the parent pointers to recover the path.\n",
        "\n",
        "**Grid-Based Path Planning:**\n",
        "\n",
        "The A* algorithm is particularly useful in grid-based environments because the neighbors of a cell are easily determined (up, down, left, right, and diagonals, depending on the allowed movements). The cost of moving between cells is usually constant or easily calculable (e.g., 1 for orthogonal moves, sqrt(2) for diagonal moves).\n",
        "\n",
        "In summary, the A* algorithm is a powerful tool for finding optimal paths in grid-based environments. Its use of a heuristic function allows for efficient search, prioritizing promising paths towards the goal.\n"
      ],
      "metadata": {
        "id": "dFHAPzE32QiE"
      }
    },
    {
      "cell_type": "code",
      "execution_count": null,
      "metadata": {
        "id": "zLpOG_bmtgBa"
      },
      "outputs": [],
      "source": [
        "import math\n",
        "import heapq\n",
        "import matplotlib.pyplot as plt"
      ]
    },
    {
      "cell_type": "code",
      "source": [],
      "metadata": {
        "id": "0fN-GML12QQx"
      },
      "execution_count": null,
      "outputs": []
    },
    {
      "cell_type": "code",
      "source": [
        "class Cell:\n",
        "  def __init__(self):\n",
        "    self.parent_i = 0\n",
        "    self.parent_j = 0\n",
        "    self.f = float('inf')\n",
        "    self.g = float('inf')\n",
        "    self.h = 0"
      ],
      "metadata": {
        "id": "QwDFTdk8tz8R"
      },
      "execution_count": null,
      "outputs": []
    },
    {
      "cell_type": "code",
      "source": [
        "ROW =10\n",
        "COL =10"
      ],
      "metadata": {
        "id": "91B2vFE9v2Qh"
      },
      "execution_count": null,
      "outputs": []
    },
    {
      "cell_type": "code",
      "source": [
        "def is_valid(row,col):\n",
        "    return (row>= 0) and (row < ROW) and (col >= 0) and (col < COL)"
      ],
      "metadata": {
        "id": "TOJAThg_wPp0"
      },
      "execution_count": null,
      "outputs": []
    },
    {
      "cell_type": "code",
      "source": [
        "def is_unblocked(grid,row,col):\n",
        "    return grid[row][col] == 1"
      ],
      "metadata": {
        "id": "E7lzRLZ3xjF_"
      },
      "execution_count": null,
      "outputs": []
    },
    {
      "cell_type": "code",
      "source": [
        "def is_destination(row,col,dest):\n",
        "  return row == dest[0] and col == dest[1]"
      ],
      "metadata": {
        "id": "-EwtSi2wxZZN"
      },
      "execution_count": null,
      "outputs": []
    },
    {
      "cell_type": "code",
      "source": [
        "def calculate_h_value(row,col,dest):\n",
        "  return ((row - dest[0]) ** 2 + (col - dest[1]) ** 2) ** 0.5"
      ],
      "metadata": {
        "id": "18I1QZcjxsgb"
      },
      "execution_count": null,
      "outputs": []
    },
    {
      "cell_type": "code",
      "source": [
        "def trace_path(cell_details,dest):\n",
        "  print(\"the path is\")\n",
        "  path = []\n",
        "  row = dest[0]\n",
        "  col = dest[1]\n",
        "\n",
        "  while not (cell_details[row][col].parent_i == row and cell_details[row][col].parent_j == col):\n",
        "    path.append((row,col))\n",
        "    temp_row = cell_details[row][col].parent_i\n",
        "    temp_col = cell_details[row][col].parent_j\n",
        "    row = temp_row\n",
        "    col = temp_col\n",
        "\n",
        "  path.append((row,col))\n",
        "  path.reverse()\n",
        "\n",
        "  for i in path:\n",
        "    print(\"->\",i,end=\" \")\n",
        "  print()\n",
        "  return path\n"
      ],
      "metadata": {
        "id": "h1wqOnVDCULN"
      },
      "execution_count": null,
      "outputs": []
    },
    {
      "cell_type": "code",
      "source": [
        "def a_star_search(grid, src, dest):\n",
        "\n",
        "    if not is_valid(src[0], src[1]) or not is_valid(dest[0], dest[1]):\n",
        "        print(\"Source or destination is invalid\")\n",
        "        return\n",
        "\n",
        "\n",
        "    if not is_unblocked(grid, src[0], src[1]) or not is_unblocked(grid, dest[0], dest[1]):\n",
        "        print(\"Source or the destination is blocked\")\n",
        "        return\n",
        "\n",
        "    if is_destination(src[0], src[1], dest):\n",
        "        print(\"We are already at the destination\")\n",
        "        return\n",
        "\n",
        "    closed_list = [[False for a in range(COL)] for a in range(ROW)]\n",
        "\n",
        "\n",
        "    cell_details = [[Cell() for b in range(COL)] for b in range(ROW)]\n",
        "\n",
        "    i = src[0]\n",
        "    j = src[1]\n",
        "    cell_details[i][j].f = 0\n",
        "    cell_details[i][j].g = 0\n",
        "    cell_details[i][j].h = 0\n",
        "    cell_details[i][j].parent_i = i\n",
        "    cell_details[i][j].parent_j = j\n",
        "\n",
        "    open_list = []\n",
        "    heapq.heappush(open_list, (0.0, i, j))\n",
        "\n",
        "    found_dest = False\n",
        "\n",
        "    while len(open_list) > 0:\n",
        "\n",
        "        p = heapq.heappop(open_list)\n",
        "\n",
        "\n",
        "        i = p[1]\n",
        "        j = p[2]\n",
        "        closed_list[i][j] = True\n",
        "\n",
        "\n",
        "        directions = [(0, 1), (0, -1), (1, 0), (-1, 0), (1, 1), (1, -1), (-1, 1), (-1, -1)]\n",
        "        for dir in directions:\n",
        "            new_i = i + dir[0]\n",
        "            new_j = j + dir[1]\n",
        "\n",
        "            if is_valid(new_i, new_j) and is_unblocked(grid, new_i, new_j) and not closed_list[new_i][new_j]:\n",
        "\n",
        "                if is_destination(new_i, new_j, dest):\n",
        "\n",
        "                    cell_details[new_i][new_j].parent_i = i\n",
        "                    cell_details[new_i][new_j].parent_j = j\n",
        "                    print(\"The destination cell is found\")\n",
        "\n",
        "                    path = trace_path(cell_details, dest)\n",
        "                    found_dest = True\n",
        "                    return path\n",
        "                else:\n",
        "\n",
        "                    g_new = cell_details[i][j].g + 1.0\n",
        "                    h_new = calculate_h_value(new_i, new_j, dest)\n",
        "                    f_new = g_new + h_new\n",
        "\n",
        "\n",
        "                    if cell_details[new_i][new_j].f == float('inf') or cell_details[new_i][new_j].f > f_new:\n",
        "\n",
        "                        heapq.heappush(open_list, (f_new, new_i, new_j))\n",
        "\n",
        "                        cell_details[new_i][new_j].f = f_new\n",
        "                        cell_details[new_i][new_j].g = g_new\n",
        "                        cell_details[new_i][new_j].h = h_new\n",
        "                        cell_details[new_i][new_j].parent_i = i\n",
        "                        cell_details[new_i][new_j].parent_j = j\n",
        "\n",
        "\n",
        "    if not found_dest:\n",
        "        print(\"Failed to find the destination cell\")"
      ],
      "metadata": {
        "id": "Fjjjod2OApmA"
      },
      "execution_count": null,
      "outputs": []
    },
    {
      "cell_type": "code",
      "source": [
        "heap1 = []\n",
        "heapq.heappush(heap1, 4)\n",
        "heapq.heappush(heap1, 7)\n",
        "heapq.heappush(heap1, 9)\n",
        "heapq.heappush(heap1, 5)\n",
        "\n",
        "print(heap1)"
      ],
      "metadata": {
        "colab": {
          "base_uri": "https://localhost:8080/"
        },
        "id": "HfvgHlqvKwV_",
        "outputId": "054d4d84-8d4e-4036-c720-7604c81f1fa4"
      },
      "execution_count": null,
      "outputs": [
        {
          "output_type": "stream",
          "name": "stdout",
          "text": [
            "[4, 5, 9, 7]\n"
          ]
        }
      ]
    },
    {
      "cell_type": "code",
      "source": [
        "heap1 = [1, 3, 5, 7, 9]\n",
        "print(heapq.heappop(heap1))              # Output: 1\n",
        "print(heap1)"
      ],
      "metadata": {
        "colab": {
          "base_uri": "https://localhost:8080/"
        },
        "id": "uPiXmunmFV9E",
        "outputId": "10dde166-eaf9-4e24-d829-4d2b4e166eab"
      },
      "execution_count": null,
      "outputs": [
        {
          "output_type": "stream",
          "name": "stdout",
          "text": [
            "1\n",
            "[3, 7, 5, 9]\n"
          ]
        }
      ]
    },
    {
      "cell_type": "code",
      "source": [
        "from ast import NodeTransformer\n",
        "def visualize_grid(grid, path=None):\n",
        "    fig, ax = plt.subplots()\n",
        "    for i in range(len(grid)):\n",
        "        for j in range(len(grid[0])):\n",
        "            if grid[i][j] == 1:\n",
        "                ax.plot(j, i, marker='s', color='lightgray', markersize=10)      # unblocked cells\n",
        "            else:\n",
        "                ax.plot(j, i, marker='s', color='black', markersize=10)          # blocked cells\n",
        "    if path:\n",
        "        for node in path:\n",
        "            ax.plot(node[1], node[0], marker='o', color='red', markersize=10)    # A* Path\n",
        "    plt.gca().invert_yaxis()                                                     # Invert y axis to match grid coordinates\n",
        "                                                                                 # This function retrieves the current Axes instance from the current figure.\n",
        "                                                                                 #The \"gca\" stands for \"get current axes\".\n",
        "    plt.grid(True)\n",
        "    plt.show()\n"
      ],
      "metadata": {
        "id": "BWWIfqDcNQ3D"
      },
      "execution_count": null,
      "outputs": []
    },
    {
      "cell_type": "code",
      "source": [
        "def main():\n",
        "    # Define the grid (1 for unblocked, 0 for blocked)\n",
        "    grid = [\n",
        "        [1, 0, 1, 1, 1, 1, 0, 1, 1, 1],\n",
        "        [1, 1, 1, 0, 1, 1, 1, 0, 1, 1],\n",
        "        [1, 1, 1, 0, 1, 1, 0, 1, 0, 1],\n",
        "        [0, 0, 1, 0, 1, 0, 0, 0, 0, 1],\n",
        "        [1, 1, 1, 0, 1, 1, 1, 0, 1, 0],\n",
        "        [1, 0, 1, 1, 1, 1, 0, 1, 0, 0],\n",
        "        [1, 0, 0, 0, 0, 1, 0, 0, 0, 1],\n",
        "        [1, 0, 1, 1, 1, 1, 0, 1, 1, 1],\n",
        "        [1, 1, 1, 0, 0, 0, 1, 0, 0, 1],\n",
        "        [1, 1, 1, 0, 1, 0, 1, 0, 1, 1]\n",
        "    ]\n",
        "\n",
        "    # Define the source and destination\n",
        "    src = [8, 0]\n",
        "    dest = [2, 7]\n",
        "\n",
        "    # Run the A* search algorithm\n",
        "    path = a_star_search(grid, src, dest)\n",
        "    visualize_grid(grid, path)\n",
        "\n",
        "if __name__ == \"__main__\":\n",
        "    main()"
      ],
      "metadata": {
        "id": "FT9Yixh7PRcH",
        "colab": {
          "base_uri": "https://localhost:8080/",
          "height": 482
        },
        "outputId": "749016a0-f474-4eea-b03b-7593dab47942"
      },
      "execution_count": null,
      "outputs": [
        {
          "output_type": "stream",
          "name": "stdout",
          "text": [
            "The destination cell is found\n",
            "the path is\n",
            "-> (8, 0) -> (8, 1) -> (7, 2) -> (7, 3) -> (7, 4) -> (6, 5) -> (5, 5) -> (4, 5) -> (3, 4) -> (2, 5) -> (1, 6) -> (2, 7) \n"
          ]
        },
        {
          "output_type": "display_data",
          "data": {
            "text/plain": [
              "<Figure size 640x480 with 1 Axes>"
            ],
            "image/png": "[encoded data removed]"
          },
          "metadata": {}
        }
      ]
    },
    {
      "cell_type": "code",
      "source": [
        "import gymnasium as gym\n",
        "\n",
        "env = gym.make(\"LunarLander-v3\", render_mode=\"human\")\n",
        "observation, info = env.reset()\n",
        "\n",
        "episode_over = False\n",
        "while not episode_over:\n",
        "    action = env.action_space.sample()  # agent policy that uses the observation and info\n",
        "    observation, reward, terminated, truncated, info = env.step(action)\n",
        "\n",
        "    episode_over = terminated or truncated\n",
        "\n",
        "env.close()"
      ],
      "metadata": {
        "id": "1j2-n3XdMar1"
      },
      "execution_count": null,
      "outputs": []
    },
    {
      "cell_type": "code",
      "source": [
        "# prompt: write the conclusion of the code above in text format\n",
        "\n",
        "The code implements the A* search algorithm for pathfinding on a grid, visualized using matplotlib.  It defines functions to check grid validity, cell accessibility, and calculate heuristics. The core `a_star_search` function uses a priority queue (heapq) to explore the grid, finding the shortest path from a source to a destination, avoiding obstacles.  Path reconstruction and visualization are handled by dedicated functions. The code then includes a demonstration of the A* algorithm on a sample grid. Finally, it provides a basic interaction with the OpenAI Gym Lunar Lander environment.\n"
      ],
      "metadata": {
        "id": "8TADfIi8Pl1s"
      },
      "execution_count": null,
      "outputs": []
    },
    {
      "cell_type": "markdown",
      "source": [
        "# Conclusion:\n",
        "The code implements the A* search algorithm for pathfinding on a grid, visualized using matplotlib.  It defines functions to check grid validity, cell accessibility, and calculate heuristics. The core `a_star_search` function uses a priority queue (heapq) to explore the grid, finding the shortest path from a source to a destination, avoiding obstacles.  Path reconstruction and visualization are handled by dedicated functions. The code then includes a demonstration of the A* algorithm on a sample grid. Finally, it provides a basic interaction with the OpenAI Gym Lunar Lander environment.\n"
      ],
      "metadata": {
        "id": "FUGdQka63epK"
      }
    },
    {
      "cell_type": "code",
      "source": [],
      "metadata": {
        "id": "i9q73pw63kFr"
      },
      "execution_count": null,
      "outputs": []
    }
  ]
}